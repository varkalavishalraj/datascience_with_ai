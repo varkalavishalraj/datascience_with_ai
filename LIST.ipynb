{
 "cells": [
  {
   "cell_type": "markdown",
   "id": "aa55596f-3084-4133-a44f-053567a41748",
   "metadata": {},
   "source": [
    "datatype=useror developer can declare only one value \n",
    "\n",
    "data structure user can declare more than 1 value (collection of datatype)\n",
    "\n",
    "matrix=collection of rows and columns (collections of datatstructures)\n",
    "\n",
    "DATASTRUCTURE\n",
    "* inbuild-->list,tuple,set,dict\n",
    "* user defined-->linkedlist, stack, array, tree\n"
   ]
  },
  {
   "cell_type": "code",
   "execution_count": 107,
   "id": "14d48846-68a7-4616-b291-bc10593876ec",
   "metadata": {},
   "outputs": [
    {
     "data": {
      "text/plain": [
       "int"
      ]
     },
     "execution_count": 107,
     "metadata": {},
     "output_type": "execute_result"
    }
   ],
   "source": [
    "i=5\n",
    "type(i)"
   ]
  },
  {
   "cell_type": "markdown",
   "id": "a67ae256-6c9c-46e8-8f7b-0689394e9700",
   "metadata": {},
   "source": [
    "LIST"
   ]
  },
  {
   "cell_type": "code",
   "execution_count": 108,
   "id": "b1f8e9c1-7397-4554-9f4a-5ae5e37923fe",
   "metadata": {},
   "outputs": [
    {
     "data": {
      "text/plain": [
       "[]"
      ]
     },
     "execution_count": 108,
     "metadata": {},
     "output_type": "execute_result"
    }
   ],
   "source": [
    "l=[]\n",
    "l"
   ]
  },
  {
   "cell_type": "code",
   "execution_count": 109,
   "id": "d389c96a-5186-42cc-a0ae-ad4aaa505649",
   "metadata": {},
   "outputs": [
    {
     "data": {
      "text/plain": [
       "[1, 2, 3, 4]"
      ]
     },
     "execution_count": 109,
     "metadata": {},
     "output_type": "execute_result"
    }
   ],
   "source": [
    "l=[1,2,3,4]\n",
    "l"
   ]
  },
  {
   "cell_type": "code",
   "execution_count": 110,
   "id": "a058e353-0c2b-48f8-8670-f836cb51bb1c",
   "metadata": {},
   "outputs": [
    {
     "name": "stdout",
     "output_type": "stream",
     "text": [
      "<class 'list'>\n"
     ]
    }
   ],
   "source": [
    "print(type(l))"
   ]
  },
  {
   "cell_type": "code",
   "execution_count": 111,
   "id": "61ee545c-1347-401c-a2d0-22565964eba3",
   "metadata": {},
   "outputs": [
    {
     "data": {
      "text/plain": [
       "1"
      ]
     },
     "execution_count": 111,
     "metadata": {},
     "output_type": "execute_result"
    }
   ],
   "source": [
    "l[0]"
   ]
  },
  {
   "cell_type": "code",
   "execution_count": 112,
   "id": "9cc765ff-ba9d-41b6-977e-0d9bf2df92d9",
   "metadata": {},
   "outputs": [
    {
     "data": {
      "text/plain": [
       "4"
      ]
     },
     "execution_count": 112,
     "metadata": {},
     "output_type": "execute_result"
    }
   ],
   "source": [
    "l[-1]"
   ]
  },
  {
   "cell_type": "code",
   "execution_count": 113,
   "id": "a7784c53-97f2-4cbf-90fd-6ad63e5949ea",
   "metadata": {},
   "outputs": [
    {
     "data": {
      "text/plain": [
       "2"
      ]
     },
     "execution_count": 113,
     "metadata": {},
     "output_type": "execute_result"
    }
   ],
   "source": [
    "l.index(3)"
   ]
  },
  {
   "cell_type": "code",
   "execution_count": 114,
   "id": "057c5d73-da0b-4c86-a2cb-00d022d212a9",
   "metadata": {},
   "outputs": [
    {
     "data": {
      "text/plain": [
       "[1, 2, 3, 4, 5]"
      ]
     },
     "execution_count": 114,
     "metadata": {},
     "output_type": "execute_result"
    }
   ],
   "source": [
    "l.append(5)    # list.append() takes exactly one argument\n",
    "l"
   ]
  },
  {
   "cell_type": "code",
   "execution_count": 115,
   "id": "0ea78bb7-a476-4333-a049-7018e3f3ae39",
   "metadata": {},
   "outputs": [],
   "source": [
    "l.append(6)\n",
    "l.append(7)\n",
    "l.append(8)\n",
    "l.append(9)\n",
    "l.append(10)"
   ]
  },
  {
   "cell_type": "code",
   "execution_count": 116,
   "id": "90fe7555-870d-4f0e-bffa-e775babe17ef",
   "metadata": {},
   "outputs": [
    {
     "data": {
      "text/plain": [
       "[1, 2, 3, 4, 5, 6, 7, 8, 9, 10]"
      ]
     },
     "execution_count": 116,
     "metadata": {},
     "output_type": "execute_result"
    }
   ],
   "source": [
    "l"
   ]
  },
  {
   "cell_type": "code",
   "execution_count": 117,
   "id": "62c3f34a-840e-4a67-a7d0-0f4aa7945440",
   "metadata": {},
   "outputs": [
    {
     "ename": "TypeError",
     "evalue": "list.append() takes exactly one argument (3 given)",
     "output_type": "error",
     "traceback": [
      "\u001b[1;31m---------------------------------------------------------------------------\u001b[0m",
      "\u001b[1;31mTypeError\u001b[0m                                 Traceback (most recent call last)",
      "Cell \u001b[1;32mIn[117], line 1\u001b[0m\n\u001b[1;32m----> 1\u001b[0m \u001b[43ml\u001b[49m\u001b[38;5;241;43m.\u001b[39;49m\u001b[43mappend\u001b[49m\u001b[43m(\u001b[49m\u001b[38;5;241;43m11\u001b[39;49m\u001b[43m,\u001b[49m\u001b[38;5;241;43m12\u001b[39;49m\u001b[43m,\u001b[49m\u001b[38;5;241;43m13\u001b[39;49m\u001b[43m)\u001b[49m\n",
      "\u001b[1;31mTypeError\u001b[0m: list.append() takes exactly one argument (3 given)"
     ]
    }
   ],
   "source": [
    "l.append(11,12,13)"
   ]
  },
  {
   "cell_type": "code",
   "execution_count": 118,
   "id": "504b2f0d-e87f-4fbe-8be4-ebc120a23cda",
   "metadata": {},
   "outputs": [
    {
     "data": {
      "text/plain": [
       "[1, 2, 3, 4, 5, 6, 7, 8, 9, 10]"
      ]
     },
     "execution_count": 118,
     "metadata": {},
     "output_type": "execute_result"
    }
   ],
   "source": [
    "l"
   ]
  },
  {
   "cell_type": "code",
   "execution_count": 119,
   "id": "71657e16-4151-4a12-b564-d0e9ac69ba4f",
   "metadata": {},
   "outputs": [
    {
     "data": {
      "text/plain": [
       "[1, 2, 3, 4, 5, 6, 7, 8, 9, 10, 1, 2, 3, 4, 5]"
      ]
     },
     "execution_count": 119,
     "metadata": {},
     "output_type": "execute_result"
    }
   ],
   "source": [
    "l.append(1)\n",
    "l.append(2)\n",
    "l.append(3)\n",
    "l.append(4)\n",
    "l.append(5)\n",
    "l\n"
   ]
  },
  {
   "cell_type": "code",
   "execution_count": 120,
   "id": "eee1e17e-7c7d-4ee6-9c79-335d2149f087",
   "metadata": {},
   "outputs": [],
   "source": [
    "l1=l.copy()"
   ]
  },
  {
   "cell_type": "code",
   "execution_count": 121,
   "id": "deb5426e-9bd0-4113-a574-56a0e456e35a",
   "metadata": {},
   "outputs": [
    {
     "data": {
      "text/plain": [
       "[1, 2, 3, 4, 5, 6, 7, 8, 9, 10, 1, 2, 3, 4, 5]"
      ]
     },
     "execution_count": 121,
     "metadata": {},
     "output_type": "execute_result"
    }
   ],
   "source": [
    "l1"
   ]
  },
  {
   "cell_type": "code",
   "execution_count": 122,
   "id": "cfb9eb24-8f24-4f83-9307-12fb6a9dce4d",
   "metadata": {},
   "outputs": [
    {
     "data": {
      "text/plain": [
       "[1, 1, 2, 2, 3, 3, 4, 4, 5, 5, 6, 7, 8, 9, 10]"
      ]
     },
     "execution_count": 122,
     "metadata": {},
     "output_type": "execute_result"
    }
   ],
   "source": [
    "l1.sort()\n",
    "l1"
   ]
  },
  {
   "cell_type": "code",
   "execution_count": 123,
   "id": "c5dea2a5-468b-4f45-895d-a457956a69ba",
   "metadata": {},
   "outputs": [
    {
     "data": {
      "text/plain": [
       "15"
      ]
     },
     "execution_count": 123,
     "metadata": {},
     "output_type": "execute_result"
    }
   ],
   "source": [
    "len(l1)"
   ]
  },
  {
   "cell_type": "code",
   "execution_count": 124,
   "id": "f8ddef50-6473-44ee-a2b6-2f04ba0ea89e",
   "metadata": {},
   "outputs": [],
   "source": [
    "l1=l.copy()"
   ]
  },
  {
   "cell_type": "code",
   "execution_count": 125,
   "id": "90d3d310-2fd2-4d60-b827-ac02169f30c0",
   "metadata": {},
   "outputs": [
    {
     "data": {
      "text/plain": [
       "[1, 2, 3, 4, 5, 6, 7, 8, 9, 10, 1, 2, 3, 4, 5]"
      ]
     },
     "execution_count": 125,
     "metadata": {},
     "output_type": "execute_result"
    }
   ],
   "source": [
    "l1"
   ]
  },
  {
   "cell_type": "code",
   "execution_count": 126,
   "id": "e017ea3f-5fae-4f51-8513-cbbd7d29a848",
   "metadata": {},
   "outputs": [
    {
     "name": "stdout",
     "output_type": "stream",
     "text": [
      "[1, 2, 3, 4, 5, 6, 7, 8, 9, 10, 1, 2, 3, 4, 5, 2.3, 'vishal', (1+2j), [1, 2, 3]]\n"
     ]
    }
   ],
   "source": [
    "l1.append(2.3)\n",
    "l1.append('vishal')\n",
    "l1.append(1+2j)\n",
    "l1.append([1,2,3])\n",
    "print(l1)"
   ]
  },
  {
   "cell_type": "code",
   "execution_count": 127,
   "id": "43a3bbc3-2fb9-4bf1-9213-b36439424bc3",
   "metadata": {},
   "outputs": [
    {
     "name": "stdout",
     "output_type": "stream",
     "text": [
      "15\n"
     ]
    }
   ],
   "source": [
    "print(len(l))"
   ]
  },
  {
   "cell_type": "code",
   "execution_count": 128,
   "id": "cd67c175-33c3-478c-8c8f-b96889b347dc",
   "metadata": {},
   "outputs": [
    {
     "name": "stdout",
     "output_type": "stream",
     "text": [
      "19\n"
     ]
    }
   ],
   "source": [
    "print(len(l1))"
   ]
  },
  {
   "cell_type": "code",
   "execution_count": 129,
   "id": "b7020052-aef0-4358-8994-810c2643dd03",
   "metadata": {},
   "outputs": [
    {
     "data": {
      "text/plain": [
       "False"
      ]
     },
     "execution_count": 129,
     "metadata": {},
     "output_type": "execute_result"
    }
   ],
   "source": [
    "l==l1\n"
   ]
  },
  {
   "cell_type": "code",
   "execution_count": 130,
   "id": "525e085f-2c85-4f07-b3e7-586c73012074",
   "metadata": {},
   "outputs": [],
   "source": [
    "l2=l.copy()\n"
   ]
  },
  {
   "cell_type": "code",
   "execution_count": 131,
   "id": "a553bf09-27da-4b6b-925b-2716c62cad09",
   "metadata": {},
   "outputs": [
    {
     "data": {
      "text/plain": [
       "True"
      ]
     },
     "execution_count": 131,
     "metadata": {},
     "output_type": "execute_result"
    }
   ],
   "source": [
    "l==l2"
   ]
  },
  {
   "cell_type": "code",
   "execution_count": 132,
   "id": "c8b42ace-f3b2-48a5-8695-692499028a47",
   "metadata": {},
   "outputs": [
    {
     "name": "stdout",
     "output_type": "stream",
     "text": [
      "[1, 2, 3, 4, 5, 6, 7, 8, 9, 10, 1, 2, 3, 4, 5]\n",
      "[1, 2, 3, 4, 5, 6, 7, 8, 9, 10, 1, 2, 3, 4, 5, 2.3, 'vishal', (1+2j), [1, 2, 3]]\n",
      "[1, 2, 3, 4, 5, 6, 7, 8, 9, 10, 1, 2, 3, 4, 5]\n"
     ]
    }
   ],
   "source": [
    "print(l)\n",
    "print(l1)\n",
    "print(l2)"
   ]
  },
  {
   "cell_type": "code",
   "execution_count": 133,
   "id": "9c842458-1695-466a-a57f-5f1d5b3c320c",
   "metadata": {},
   "outputs": [
    {
     "data": {
      "text/plain": [
       "[1, 2, 3, 4, 5, 6, 7, 8, 9, 10, 1, 2, 3, 4, 5]"
      ]
     },
     "execution_count": 133,
     "metadata": {},
     "output_type": "execute_result"
    }
   ],
   "source": [
    "l[:]"
   ]
  },
  {
   "cell_type": "code",
   "execution_count": 135,
   "id": "85db81bc-9ce9-4a27-bb17-707fd856dbf4",
   "metadata": {},
   "outputs": [
    {
     "data": {
      "text/plain": [
       "1"
      ]
     },
     "execution_count": 135,
     "metadata": {},
     "output_type": "execute_result"
    }
   ],
   "source": [
    "l[0]"
   ]
  },
  {
   "cell_type": "code",
   "execution_count": 138,
   "id": "fa582aeb-36d5-41f2-943e-c07b699eafa3",
   "metadata": {},
   "outputs": [
    {
     "data": {
      "text/plain": [
       "[1.0, 2, 3, 4, 5, 6, 7, 8, 9, 10, 1, 2, 3, 4, 5]"
      ]
     },
     "execution_count": 138,
     "metadata": {},
     "output_type": "execute_result"
    }
   ],
   "source": [
    "l[0]=1.0\n",
    "l[0]   #changable(mutable)\n",
    "l"
   ]
  },
  {
   "cell_type": "code",
   "execution_count": 139,
   "id": "16c67c57-636e-46ff-bf1d-33b26941e904",
   "metadata": {},
   "outputs": [
    {
     "data": {
      "text/plain": [
       "[4, 5, 6, 7, 8, 9, 10, 1, 2, 3, 4, 5]"
      ]
     },
     "execution_count": 139,
     "metadata": {},
     "output_type": "execute_result"
    }
   ],
   "source": [
    "l[3:]"
   ]
  },
  {
   "cell_type": "code",
   "execution_count": 140,
   "id": "621713c1-8019-4b83-a83e-9399fd143591",
   "metadata": {},
   "outputs": [
    {
     "ename": "IndexError",
     "evalue": "list index out of range",
     "output_type": "error",
     "traceback": [
      "\u001b[1;31m---------------------------------------------------------------------------\u001b[0m",
      "\u001b[1;31mIndexError\u001b[0m                                Traceback (most recent call last)",
      "Cell \u001b[1;32mIn[140], line 1\u001b[0m\n\u001b[1;32m----> 1\u001b[0m \u001b[43ml\u001b[49m\u001b[43m[\u001b[49m\u001b[38;5;241;43m16\u001b[39;49m\u001b[43m]\u001b[49m\n",
      "\u001b[1;31mIndexError\u001b[0m: list index out of range"
     ]
    }
   ],
   "source": [
    "l[16]"
   ]
  },
  {
   "cell_type": "code",
   "execution_count": 141,
   "id": "8ed3aa79-3c7d-4d8a-9f4d-ef2d90998cc9",
   "metadata": {},
   "outputs": [
    {
     "data": {
      "text/plain": [
       "[]"
      ]
     },
     "execution_count": 141,
     "metadata": {},
     "output_type": "execute_result"
    }
   ],
   "source": [
    "l[16:]"
   ]
  },
  {
   "cell_type": "code",
   "execution_count": 143,
   "id": "9896a0e9-ed5c-4c43-bed0-0a6f8e8f881c",
   "metadata": {},
   "outputs": [
    {
     "data": {
      "text/plain": [
       "[1.0, 2, 3, 4, 5, 6, 7, 8, 9, 10, 1, 2, 3, 4, 5]"
      ]
     },
     "execution_count": 143,
     "metadata": {},
     "output_type": "execute_result"
    }
   ],
   "source": [
    "l[:15]"
   ]
  },
  {
   "cell_type": "code",
   "execution_count": 144,
   "id": "52a02eab-fc2d-4482-bbb1-5036933d356c",
   "metadata": {},
   "outputs": [
    {
     "data": {
      "text/plain": [
       "9"
      ]
     },
     "execution_count": 144,
     "metadata": {},
     "output_type": "execute_result"
    }
   ],
   "source": [
    "l[8]"
   ]
  },
  {
   "cell_type": "code",
   "execution_count": 145,
   "id": "b8103838-107c-44a8-aaae-64177feb0523",
   "metadata": {},
   "outputs": [],
   "source": [
    "l2.clear()"
   ]
  },
  {
   "cell_type": "code",
   "execution_count": 146,
   "id": "833e1256-9c3d-4287-b319-a1e4b0c886f0",
   "metadata": {},
   "outputs": [
    {
     "data": {
      "text/plain": [
       "[]"
      ]
     },
     "execution_count": 146,
     "metadata": {},
     "output_type": "execute_result"
    }
   ],
   "source": [
    "l2"
   ]
  },
  {
   "cell_type": "code",
   "execution_count": 149,
   "id": "f2e8600a-e6b4-457a-ba23-647c6d8a8c08",
   "metadata": {},
   "outputs": [
    {
     "ename": "NameError",
     "evalue": "name 'l2' is not defined",
     "output_type": "error",
     "traceback": [
      "\u001b[1;31m---------------------------------------------------------------------------\u001b[0m",
      "\u001b[1;31mNameError\u001b[0m                                 Traceback (most recent call last)",
      "Cell \u001b[1;32mIn[149], line 1\u001b[0m\n\u001b[1;32m----> 1\u001b[0m \u001b[38;5;28;01mdel\u001b[39;00m \u001b[43ml2\u001b[49m\n\u001b[0;32m      2\u001b[0m l2\n",
      "\u001b[1;31mNameError\u001b[0m: name 'l2' is not defined"
     ]
    }
   ],
   "source": [
    "del l2\n",
    "l2"
   ]
  },
  {
   "cell_type": "code",
   "execution_count": 150,
   "id": "4d349100-5b5c-4c25-90bd-6033f91af7d1",
   "metadata": {},
   "outputs": [
    {
     "data": {
      "text/plain": [
       "[1,\n",
       " 2,\n",
       " 3,\n",
       " 4,\n",
       " 5,\n",
       " 6,\n",
       " 7,\n",
       " 8,\n",
       " 9,\n",
       " 10,\n",
       " 1,\n",
       " 2,\n",
       " 3,\n",
       " 4,\n",
       " 5,\n",
       " 2.3,\n",
       " 'vishal',\n",
       " (1+2j),\n",
       " [1, 2, 3]]"
      ]
     },
     "execution_count": 150,
     "metadata": {},
     "output_type": "execute_result"
    }
   ],
   "source": [
    "l1"
   ]
  },
  {
   "cell_type": "code",
   "execution_count": 151,
   "id": "d9d151bd-1874-4b8f-a17f-fed401c8254e",
   "metadata": {},
   "outputs": [
    {
     "data": {
      "text/plain": [
       "[1, 6, 1, 2.3]"
      ]
     },
     "execution_count": 151,
     "metadata": {},
     "output_type": "execute_result"
    }
   ],
   "source": [
    "l1[0:16:5]"
   ]
  },
  {
   "cell_type": "code",
   "execution_count": 153,
   "id": "986f37c8-cec7-4e2f-8022-a3561dac552e",
   "metadata": {},
   "outputs": [
    {
     "data": {
      "text/plain": [
       "15"
      ]
     },
     "execution_count": 153,
     "metadata": {},
     "output_type": "execute_result"
    }
   ],
   "source": [
    "l1.index(2.3)"
   ]
  },
  {
   "cell_type": "code",
   "execution_count": 154,
   "id": "91e2fcfa-7f2a-4e93-b053-582783efc5d8",
   "metadata": {},
   "outputs": [
    {
     "name": "stdout",
     "output_type": "stream",
     "text": [
      "3420\n"
     ]
    }
   ],
   "source": [
    "l=45\n",
    "b=76\n",
    "a=l*b\n",
    "print(a)"
   ]
  },
  {
   "cell_type": "code",
   "execution_count": null,
   "id": "8eab34d3-ed24-44cf-9fd2-03b5cdc38645",
   "metadata": {},
   "outputs": [],
   "source": []
  }
 ],
 "metadata": {
  "kernelspec": {
   "display_name": "Python 3 (ipykernel)",
   "language": "python",
   "name": "python3"
  },
  "language_info": {
   "codemirror_mode": {
    "name": "ipython",
    "version": 3
   },
   "file_extension": ".py",
   "mimetype": "text/x-python",
   "name": "python",
   "nbconvert_exporter": "python",
   "pygments_lexer": "ipython3",
   "version": "3.12.6"
  }
 },
 "nbformat": 4,
 "nbformat_minor": 5
}
